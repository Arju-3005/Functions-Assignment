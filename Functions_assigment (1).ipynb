{
  "nbformat": 4,
  "nbformat_minor": 0,
  "metadata": {
    "colab": {
      "provenance": []
    },
    "kernelspec": {
      "name": "python3",
      "display_name": "Python 3"
    },
    "language_info": {
      "name": "python"
    }
  },
  "cells": [
    {
      "cell_type": "markdown",
      "source": [
        "# **Theory Questions:**"
      ],
      "metadata": {
        "id": "wjnGlpUJptgQ"
      }
    },
    {
      "cell_type": "markdown",
      "source": [
        "1. What is the difference between a function and a method in Python?\n",
        "   -  Function: A function is a block of code that performs a specific task and can be defined using the def keyword. It can exist independently.\n",
        "\n",
        "   -  Method: A method is a function that is associated with an object and is called using the dot . operator. It usually operates on the data within the object.  \n",
        "      -  Example:\n",
        "\n",
        "          def greet(name):\n",
        "\n",
        "          return \"Hello \" + name\n",
        "\n",
        "          print(greet(\"Arju\"))\n",
        "\n",
        "          name = \"Arju\"\n",
        "          print(name.upper())  \n",
        "\n",
        "2.  Explain the concept of function arguments and parameters in Python.\n",
        "   -  Parameters are the variable names defined in a function definition.\n",
        "\n",
        "    -  Arguments are the actual values passed to the function when calling it.\n",
        "\n",
        "      -  Example:\n",
        "\n",
        "            def greet(name):\n",
        "\n",
        "         return \"Hello \" + name\n",
        "\n",
        "        print(greet(\"Arju\"))\n",
        "\n",
        "3.  What are the different ways to define and call a function in Python?\n",
        "\n",
        "    -  Ways to define a function:\n",
        "\n",
        "       - Regular function using def.\n",
        "\n",
        "       - Anonymous function using lambda.\n",
        "\n",
        "    -  Ways to call a function:\n",
        "\n",
        "     - Direct call with arguments.\n",
        "\n",
        "     - Using variables as function references.\n",
        "\n",
        "      - Passing as an argument to higher-order functions.\n",
        "\n",
        "      Example:\n",
        "\n",
        "       def add(a, b):\n",
        "\n",
        "       return a + b\n",
        "\n",
        "       multiply = lambda x, y: x * y\n",
        "\n",
        "       print(add(2, 3))    \n",
        "\n",
        "       print(multiply(4, 5))    \n",
        "\n",
        "       def operate(func, x, y):\n",
        "\n",
        "       return func(x, y)\n",
        "\n",
        "      print(operate(add, 10, 20))\n",
        "\n",
        "4.  What is the purpose of the `return` statement in a Python function?\n",
        "   -  The return statement is used to send back the result of a function to the caller and exit the function.\n",
        "\n",
        "         Example:\n",
        "\n",
        "        def square(x):\n",
        "\n",
        "         return x * x\n",
        "\n",
        "         result = square(4)\n",
        "\n",
        "         print(result)  \n",
        "\n",
        "\n",
        "\n",
        "5.   What are iterators in Python and how do they differ from iterables?\n",
        "    -  Iterable: An object that can return an iterator (e.g., list, tuple, string).\n",
        "\n",
        "         - Iterator: An object with a __next__() method that returns elements one at a time.\n",
        "\n",
        "         - Difference: Iterables can be looped over, but iterators maintain the current state and can be used with next().\n",
        "\n",
        "         Example:\n",
        "\n",
        "         nums = [1, 2, 3]\n",
        "\n",
        "         it = iter(nums)\n",
        "\n",
        "           print(next(it))\n",
        "\n",
        "          print(next(it))  \n",
        "6. Explain the concept of generators in Python and how they are defined.\n",
        "  -  A generator is a function that returns an iterator and uses the yield keyword to produce values one at a time.\n",
        "\n",
        "  Example:\n",
        "\n",
        "  def count_up_to(n):\n",
        "\n",
        "  count = 1\n",
        "\n",
        "  while count <= n:\n",
        "\n",
        "  yield count\n",
        "\n",
        "   count += 1\n",
        "\n",
        "   gen = count_up_to(3)\n",
        "\n",
        "   print(next(gen))  \n",
        "\n",
        "   print(next(gen))  \n",
        "\n",
        "7. What are the advantages of using generators over regular functions?\n",
        "   -  Memory Efficient: Don’t store all values in memory.\n",
        "\n",
        "  -  Lazy Evaluation: Generate values on demand.\n",
        "\n",
        "   -  Infinite Sequences: Can represent infinite data streams.\n",
        "\n",
        "   Example:\n",
        "\n",
        "  def numbers():\n",
        "\n",
        "  for i in range(1000000):\n",
        "\n",
        "   yield  i\n",
        "\n",
        "   for num in numbers():\n",
        "\n",
        "   if num > 5:\n",
        "\n",
        "     break\n",
        "\n",
        " print(num)\n",
        "\n",
        "8. What is a lambda function in Python and when is it typically used?\n",
        "  -  A lambda is an anonymous function defined using the lambda keyword. It's used for short, throwaway functions, often with map(), filter(), etc.\n",
        "     -  Syntax: lambda arguments: expression\n",
        "\n",
        "     Example:\n",
        "\n",
        "     square = lambda x: x * x\n",
        "\n",
        "     print(square(5))  # Output: 25\n",
        "\n",
        "     print(list(map(lambda x: x*2, [1, 2, 3])))  \n",
        "\n",
        "9.  Explain the purpose and usage of the `map()` function in Python.\n",
        "   -  map() applies a function to every item of an iterable and returns a map object (which is iterable).\n",
        "\n",
        "     - Syntax: map(function, iterable)\n",
        "\n",
        "     Example:\n",
        "\n",
        "     nums = [1, 2, 3, 4]\n",
        "\n",
        "     squared = map(lambda x: x**2, nums)\n",
        "\n",
        "     print(list(squared))  # Output: [1, 4, 9, 16]\n",
        "10. What is the difference between `map()`, `reduce()`, and `filter()` functions in Python?\n",
        "\n",
        "       - Function: map()\t  \n",
        "       - Purpose: Applies a function to all items in an iterable\n",
        "\n",
        "       - Returns: Transformed iterable\n",
        "\n",
        "       - Example:  map(lambda x: x*2, [1,2,3]) → [2,4,6]\n",
        "\n",
        "   - Function:  filter()\n",
        "  -  Purpose: Filters items based on a condition\n",
        "  - Returns: Filtered iterable\tfilter\n",
        "    -  Example: (lambda x: x%2==0, [1,2,3]) → [2]\n",
        "\n",
        "   - Function: reduce()\n",
        "    - Purpose: Applies a rolling computation to reduce iterable to single\n",
        "         value\n",
        "   - Returns:  Single value\n",
        "   - Example:  reduce(lambda x,y: x+y, [1,2,3]) → 6\n",
        "\n",
        "     -  Note: reduce() is available in functools.\n",
        "\n",
        "     Example:\n",
        "\n",
        "     from functools import reduce\n",
        "\n",
        "     nums = [1, 2, 3, 4]\n",
        "\n",
        "     print(list(map(lambda x: x*2, nums)))    \n",
        "\n",
        "     print(list(filter(lambda x: x%2 == 0, nums)))  \n",
        "\n",
        "     print(reduce(lambda x, y: x + y, nums))     \n",
        "\n",
        "11. Using pen & Paper write the internal mechanism for sum operation using  reduce function on this given\n",
        "list:[47,11,42,13];\n",
        "   -  from functools import reduce\n",
        "\n",
        "        reduce(lambda x, y: x + y, [47, 11, 42, 13])\n",
        "\n",
        "        Final Result:\n",
        "\n",
        "        reduce(lambda x, y: x + y, [47, 11, 42, 13]) = 113\n",
        "\n"
      ],
      "metadata": {
        "id": "U8i-GuXipwMO"
      }
    },
    {
      "cell_type": "markdown",
      "source": [
        "![11 questions.jpg](data:image/jpeg;base64,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)"
      ],
      "metadata": {
        "id": "pyn4f75Z2rIv"
      }
    },
    {
      "cell_type": "markdown",
      "source": [
        "# **Practical Questions:**"
      ],
      "metadata": {
        "id": "XxohRzjGAUKQ"
      }
    },
    {
      "cell_type": "markdown",
      "source": [
        "1.  Write a Python function that takes a list of numbers as input and returns the sum of all even numbers in\n",
        "the list."
      ],
      "metadata": {
        "id": "KIrnX8b-Ab2Y"
      }
    },
    {
      "cell_type": "code",
      "source": [
        "def sum_even_numbers(numbers):\n",
        " return sum(num for num in numbers if num % 2 == 0)\n",
        "\n",
        "print(sum_even_numbers([1, 2, 3, 4, 5, 6]))\n"
      ],
      "metadata": {
        "colab": {
          "base_uri": "https://localhost:8080/"
        },
        "id": "jo0IUP_NJKda",
        "outputId": "046e45a7-d240-430b-8bde-19f398fa0bfd"
      },
      "execution_count": 1,
      "outputs": [
        {
          "output_type": "stream",
          "name": "stdout",
          "text": [
            "12\n"
          ]
        }
      ]
    },
    {
      "cell_type": "markdown",
      "source": [
        "2.  Create a Python function that accepts a string and returns the reverse of that string."
      ],
      "metadata": {
        "id": "6Vz_KAmHJWXo"
      }
    },
    {
      "cell_type": "code",
      "source": [
        "def reverse_string(s):\n",
        " return s[::-1]\n",
        "print(reverse_string(\"Python\"))\n"
      ],
      "metadata": {
        "colab": {
          "base_uri": "https://localhost:8080/"
        },
        "id": "4RopjQkVJaVN",
        "outputId": "1c78ea40-d735-4ee9-ec31-ef7c2001f135"
      },
      "execution_count": 2,
      "outputs": [
        {
          "output_type": "stream",
          "name": "stdout",
          "text": [
            "nohtyP\n"
          ]
        }
      ]
    },
    {
      "cell_type": "markdown",
      "source": [
        "3.   Implement a Python function that takes a list of integers and returns a new list containing the squares of\n",
        "each number."
      ],
      "metadata": {
        "id": "lTFZLaLjJhDD"
      }
    },
    {
      "cell_type": "code",
      "source": [
        "def square_list(numbers):\n",
        " return [num ** 2 for num in numbers]\n",
        "print(square_list([1, 2, 3, 4]))\n"
      ],
      "metadata": {
        "colab": {
          "base_uri": "https://localhost:8080/"
        },
        "id": "sedLvjolJmvw",
        "outputId": "d151f493-5127-46fe-aca2-c7360dca6406"
      },
      "execution_count": 4,
      "outputs": [
        {
          "output_type": "stream",
          "name": "stdout",
          "text": [
            "[1, 4, 9, 16]\n"
          ]
        }
      ]
    },
    {
      "cell_type": "markdown",
      "source": [
        "4.  Write a Python function that checks if a given number is prime or not from 1 to 200."
      ],
      "metadata": {
        "id": "441XYZbeJxDu"
      }
    },
    {
      "cell_type": "code",
      "source": [
        "def is_prime(n):\n",
        "    if n < 2:\n",
        "        return False\n",
        "    for i in range(2, int(n**0.5)+1):\n",
        "        if n % i == 0:\n",
        "            return False\n",
        "    return True\n",
        "primes = [i for i in range(1, 201) if is_prime(i)]\n",
        "print(primes)\n"
      ],
      "metadata": {
        "colab": {
          "base_uri": "https://localhost:8080/"
        },
        "id": "EFHFiI_8J2VK",
        "outputId": "c3c28602-d9c7-43a1-b65a-5b937d2ce30b"
      },
      "execution_count": 5,
      "outputs": [
        {
          "output_type": "stream",
          "name": "stdout",
          "text": [
            "[2, 3, 5, 7, 11, 13, 17, 19, 23, 29, 31, 37, 41, 43, 47, 53, 59, 61, 67, 71, 73, 79, 83, 89, 97, 101, 103, 107, 109, 113, 127, 131, 137, 139, 149, 151, 157, 163, 167, 173, 179, 181, 191, 193, 197, 199]\n"
          ]
        }
      ]
    },
    {
      "cell_type": "markdown",
      "source": [
        "5. Create an iterator class in Python that generates the Fibonacci sequence up to a specified number of\n",
        "terms."
      ],
      "metadata": {
        "id": "4QI-BhfCJ6xa"
      }
    },
    {
      "cell_type": "code",
      "source": [
        "class FibonacciIterator:\n",
        "    def __init__(self, max_terms):\n",
        "        self.max_terms = max_terms\n",
        "        self.a, self.b = 0, 1\n",
        "        self.count = 0\n",
        "\n",
        "    def __iter__(self):\n",
        "        return self\n",
        "\n",
        "    def __next__(self):\n",
        "        if self.count >= self.max_terms:\n",
        "            raise StopIteration\n",
        "        self.a, self.b = self.b, self.a + self.b\n",
        "        self.count += 1\n",
        "        return self.a\n",
        "\n",
        "for num in FibonacciIterator(10):\n",
        "    print(num, end=' ')\n"
      ],
      "metadata": {
        "colab": {
          "base_uri": "https://localhost:8080/"
        },
        "id": "eKb5zD6XJ-YF",
        "outputId": "beb9ba2b-0d75-40f8-b712-4012cdaf08d9"
      },
      "execution_count": 6,
      "outputs": [
        {
          "output_type": "stream",
          "name": "stdout",
          "text": [
            "1 1 2 3 5 8 13 21 34 55 "
          ]
        }
      ]
    },
    {
      "cell_type": "markdown",
      "source": [
        "6.  Write a generator function in Python that yields the powers of 2 up to a given exponent."
      ],
      "metadata": {
        "id": "r-Vf25eRKEof"
      }
    },
    {
      "cell_type": "code",
      "source": [
        "def powers_of_two(n):\n",
        "    for i in range(n + 1):\n",
        "        yield 2 ** i\n",
        "for power in powers_of_two(5):\n",
        "    print(power, end=' ')\n"
      ],
      "metadata": {
        "colab": {
          "base_uri": "https://localhost:8080/"
        },
        "id": "uVETe9gPKI2u",
        "outputId": "75cfb952-cee9-435d-f0dd-30d3ccfd0115"
      },
      "execution_count": 8,
      "outputs": [
        {
          "output_type": "stream",
          "name": "stdout",
          "text": [
            "1 2 4 8 16 32 "
          ]
        }
      ]
    },
    {
      "cell_type": "markdown",
      "source": [
        "7. Implement a generator function that reads a file line by line and yields each line as a string."
      ],
      "metadata": {
        "id": "DGljs8hTKSrL"
      }
    },
    {
      "cell_type": "code",
      "source": [
        "def read_file_lines(filename):\n",
        "    with open(filename, 'r') as file:\n",
        "        for line in file:\n",
        "            yield line.strip()\n"
      ],
      "metadata": {
        "id": "3Ct3v3ydKWg9"
      },
      "execution_count": 10,
      "outputs": []
    },
    {
      "cell_type": "markdown",
      "source": [
        "8.  Use a lambda function in Python to sort a list of tuples based on the second element of each tuple."
      ],
      "metadata": {
        "id": "MeXTAX0fKhjx"
      }
    },
    {
      "cell_type": "code",
      "source": [
        "tuples = [(1, 3), (2, 1), (4, 5), (0, 2)]\n",
        "sorted_tuples = sorted(tuples, key=lambda x: x[1])\n",
        "print(sorted_tuples)\n"
      ],
      "metadata": {
        "colab": {
          "base_uri": "https://localhost:8080/"
        },
        "id": "pECYFE6IKloH",
        "outputId": "d6df62f0-a675-4329-9e03-e7a3cc1f04cd"
      },
      "execution_count": 11,
      "outputs": [
        {
          "output_type": "stream",
          "name": "stdout",
          "text": [
            "[(2, 1), (0, 2), (1, 3), (4, 5)]\n"
          ]
        }
      ]
    },
    {
      "cell_type": "markdown",
      "source": [
        "9.  Write a Python program that uses `map()` to convert a list of temperatures from Celsius to Fahrenheit"
      ],
      "metadata": {
        "id": "HZTBm2GSKqK6"
      }
    },
    {
      "cell_type": "code",
      "source": [
        "celsius = [0, 20, 37, 100]\n",
        "fahrenheit = list(map(lambda c: (c * 9/5) + 32, celsius))\n",
        "print(fahrenheit)\n"
      ],
      "metadata": {
        "colab": {
          "base_uri": "https://localhost:8080/"
        },
        "id": "ny3nLmTJKtTo",
        "outputId": "4669ef7c-c279-4263-b230-364a1b0c1684"
      },
      "execution_count": 12,
      "outputs": [
        {
          "output_type": "stream",
          "name": "stdout",
          "text": [
            "[32.0, 68.0, 98.6, 212.0]\n"
          ]
        }
      ]
    },
    {
      "cell_type": "markdown",
      "source": [
        "10. Create a Python program that uses `filter()` to remove all the vowels from a given string."
      ],
      "metadata": {
        "id": "wpkJOJhwK0CO"
      }
    },
    {
      "cell_type": "code",
      "source": [
        "def remove_vowels(s):\n",
        "    return ''.join(filter(lambda ch: ch.lower() not in 'aeiou', s))\n",
        "print(remove_vowels(\"Hello World\"))\n"
      ],
      "metadata": {
        "colab": {
          "base_uri": "https://localhost:8080/"
        },
        "id": "hMFE-_rhK4ZE",
        "outputId": "aa637235-d6c5-4fec-df0c-3c939e7b7ea6"
      },
      "execution_count": 13,
      "outputs": [
        {
          "output_type": "stream",
          "name": "stdout",
          "text": [
            "Hll Wrld\n"
          ]
        }
      ]
    },
    {
      "cell_type": "markdown",
      "source": [
        "11. Imagine an accounting routine used in a book shop. It works on a list with sublists, which look like this:\n",
        "\n",
        "  order number: 34587,98762,77226,88112\n",
        "book Title and Author: Learning python, Mark Lutz,Programing python, Mark Lutz,Head First python, Paul Barry, Einuhrung in python, Bernd Klein.\n",
        "Quality: 4,5,3,3.\n",
        "Price Per Item: 40.95,56.80,32.95,24.99\n",
        "\n",
        "   Write a Python program, which returns a list with 2-tuples. Each tuple consists of the order number and the\n",
        "product of the price per item and the quantity. The product should be increased by 10,- € if the value of the\n",
        "order is smaller than 100,00 €.\n",
        "\n",
        " Write a Python program using lambda and map."
      ],
      "metadata": {
        "id": "50cSyb6YK_4m"
      }
    },
    {
      "cell_type": "code",
      "source": [
        "orders = [\n",
        "    [34587, \"Learning Python\", 4, 40.95],\n",
        "    [98762, \"Programming Java\", 5, 19.95],\n",
        "    [77226, \"Head First Python\", 3, 33.95],\n",
        "    [88112, \"Python in Practice\", 3, 24.99]\n",
        "]\n",
        "\n",
        "result = list(map(\n",
        "    lambda order: (\n",
        "        order[0],\n",
        "        round(order[2] * order[3] + (10 if order[2] * order[3] < 100 else 0), 2)\n",
        "    ),\n",
        "    orders\n",
        "))\n",
        "\n",
        "print(result)\n"
      ],
      "metadata": {
        "colab": {
          "base_uri": "https://localhost:8080/"
        },
        "id": "rzCe1IukMsQY",
        "outputId": "02428386-2349-46e3-800d-e626c6c70eb1"
      },
      "execution_count": 14,
      "outputs": [
        {
          "output_type": "stream",
          "name": "stdout",
          "text": [
            "[(34587, 163.8), (98762, 109.75), (77226, 101.85), (88112, 84.97)]\n"
          ]
        }
      ]
    }
  ]
}